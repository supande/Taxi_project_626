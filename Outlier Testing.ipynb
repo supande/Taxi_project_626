{
 "cells": [
  {
   "cell_type": "code",
   "execution_count": 17,
   "id": "3f63e248",
   "metadata": {},
   "outputs": [
    {
     "name": "stdout",
     "output_type": "stream",
     "text": [
      "6   2433   0\n"
     ]
    }
   ],
   "source": [
    "import csv\n",
    "fn ='trip_data_8.csv'\n",
    "f = open(fn,'r')\n",
    "reader = csv.reader(f)\n",
    "n=0\n",
    "pc_count=0\n",
    "tt_count=0\n",
    "td_count=0\n",
    "d=0\n",
    "passenger_num=None\n",
    "trip_time=None\n",
    "trip_distance=None\n",
    "\n",
    "for row in reader:\n",
    "    if n>0:\n",
    "        try:\n",
    "            passenger_num=int(row[7])\n",
    "        except:\n",
    "            continue\n",
    "        if passenger_num is not None:\n",
    "            if passenger_num>10:\n",
    "                pc_count+=1\n",
    "                \n",
    "        try:\n",
    "            trip_time=int(row[8])\n",
    "        except:\n",
    "            continue\n",
    "        if trip_time is not None:\n",
    "            if trip_time>15000:\n",
    "                tt_count+=1\n",
    "                \n",
    "        try:\n",
    "            trip_distance=int(row[9])\n",
    "        except:\n",
    "            continue\n",
    "        if trip_distance is not None:\n",
    "            if trip_distance>200:\n",
    "                td_count+=1\n",
    "    \n",
    "    n+=1\n",
    "\n",
    "print(pc_count,\" \",tt_count,\" \",td_count)\n",
    "\n",
    "f.close()\n",
    "        \n",
    "        \n",
    "        "
   ]
  },
  {
   "cell_type": "code",
   "execution_count": 15,
   "id": "d6543786",
   "metadata": {},
   "outputs": [
    {
     "name": "stdout",
     "output_type": "stream",
     "text": [
      "143831   143267   152648   152047\n"
     ]
    }
   ],
   "source": [
    "import csv\n",
    "fn ='trip_data_8.csv'\n",
    "f = open(fn,'r')\n",
    "reader = csv.reader(f)\n",
    "n=0\n",
    "pick_lat_count=0\n",
    "pick_lon_count=0\n",
    "drop_lat_count=0\n",
    "drop_lon_count=0\n",
    "pick_lat=None\n",
    "pick_lon=None\n",
    "drop_lat=None\n",
    "drop_lon=None\n",
    "\n",
    "for row in reader:\n",
    "    if n>0:\n",
    "        try:\n",
    "            pick_lon=float(row[10])\n",
    "        except:\n",
    "            continue\n",
    "        if pick_lon is not None:\n",
    "            if pick_lon>-73 or pick_lon<=-79:\n",
    "                pick_lon_count+=1\n",
    "                \n",
    "        try:\n",
    "            pick_lat=float(row[11])\n",
    "        except:\n",
    "            continue\n",
    "        if pick_lat is not None:\n",
    "            if pick_lat>=44 or pick_lat<37:\n",
    "                pick_lat_count+=1\n",
    "                \n",
    "        try:\n",
    "            drop_lon=float(row[12])\n",
    "        except:\n",
    "            continue\n",
    "        if drop_lon is not None:\n",
    "            if drop_lon>-73 or drop_lon<=-79:\n",
    "                drop_lon_count+=1\n",
    "                \n",
    "        try:\n",
    "            drop_lat=float(row[13])\n",
    "        except:\n",
    "            continue\n",
    "        if drop_lat is not None:\n",
    "            if drop_lat>=44 or drop_lat<37:\n",
    "                drop_lat_count+=1\n",
    "                \n",
    "    n+=1\n",
    "\n",
    "print(pick_lon_count,\" \",pick_lat_count,\" \",drop_lon_count,\" \",drop_lat_count)\n",
    "\n",
    "f.close()\n",
    "\n",
    "                \n",
    "        \n",
    "                \n",
    "        \n",
    "        \n",
    "        \n",
    "                "
   ]
  },
  {
   "cell_type": "code",
   "execution_count": null,
   "id": "aea0c27f",
   "metadata": {},
   "outputs": [],
   "source": []
  }
 ],
 "metadata": {
  "kernelspec": {
   "display_name": "Python 3 (ipykernel)",
   "language": "python",
   "name": "python3"
  },
  "language_info": {
   "codemirror_mode": {
    "name": "ipython",
    "version": 3
   },
   "file_extension": ".py",
   "mimetype": "text/x-python",
   "name": "python",
   "nbconvert_exporter": "python",
   "pygments_lexer": "ipython3",
   "version": "3.9.7"
  }
 },
 "nbformat": 4,
 "nbformat_minor": 5
}
