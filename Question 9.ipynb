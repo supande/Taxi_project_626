{
 "cells": [
  {
   "cell_type": "code",
   "execution_count": 13,
   "id": "df009dfa",
   "metadata": {},
   "outputs": [
    {
     "name": "stdout",
     "output_type": "stream",
     "text": [
      "{'08 30': 456824, '08 26': 394409, '08 29': 455453, '08 27': 422802, '08 28': 444727, '08 31': 434550, '08 25': 400758, '08 20': 432545, '08 11': 195405, '08 16': 449766, '08 12': 399261, '08 05': 406380, '08 06': 448250, '08 07': 465632, '08 10': 445037, '08 09': 489301, '08 19': 397350, '08 08': 437140, '08 13': 449946, '08 14': 457843, '08 17': 438088, '08 15': 473544, '08 21': 454080, '08 18': 390925, '08 22': 471247, '08 23': 464484, '08 24': 448491, '08 01': 307260, '08 02': 236748, '08 03': 226553, '08 04': 202310}\n",
      "\n",
      " 31\n"
     ]
    }
   ],
   "source": [
    "import csv, datetime\n",
    "fn=\"trip_data_8.csv\"\n",
    "f=open(fn,'r')\n",
    "reader=csv.reader(f)\n",
    "n=0\n",
    "shist={}\n",
    "month_day = 0\n",
    "\n",
    "for row in reader:\n",
    "    \n",
    "    if n>0:\n",
    "        dts = None\n",
    "        try:\n",
    "              dts = row[5].split(\" \")[0].split(\"-\")[1:3]\n",
    "        except:\n",
    "            continue\n",
    "        \n",
    "        \n",
    "        if dts is not None:\n",
    "            \n",
    "            month_day = dts[0]+\" \"+dts[1]\n",
    "            \n",
    "            if month_day in shist.keys():\n",
    "                shist[month_day]+=1\n",
    "            else:\n",
    "                shist[month_day]=1\n",
    "                \n",
    "    n+=1\n",
    "\n",
    "print(shist)\n",
    "print(\"\\n\",len(shist))  \n",
    "\n",
    "f.close()\n",
    "\n",
    "\n",
    "            \n",
    "        \n",
    "        \n"
   ]
  },
  {
   "cell_type": "code",
   "execution_count": 12,
   "id": "1cfc81cb",
   "metadata": {},
   "outputs": [
    {
     "name": "stdout",
     "output_type": "stream",
     "text": [
      "{'07': 22910, '23': 36763, '09': 32317, '10': 30237, '11': 30879, '05': 6903, '19': 43390, '01': 21611, '21': 40707, '14': 33674, '17': 33672, '13': 32930, '20': 41297, '22': 40308, '18': 40922, '12': 32844, '08': 30468, '15': 32134, '00': 29603, '03': 11606, '16': 27901, '04': 8570, '06': 13680, '02': 16156}\n"
     ]
    }
   ],
   "source": [
    "import csv\n",
    "fn=\"trip_data_8.csv\"\n",
    "f=open(fn,'r')\n",
    "reader=csv.reader(f)\n",
    "n=0\n",
    "shist={}\n",
    "Number_days=31\n",
    "\n",
    "\n",
    "for row in reader:\n",
    "    \n",
    "    if n>0:\n",
    "        \n",
    "        hour=None\n",
    "        try:\n",
    "            hour = row[5].split(\" \")[1].split(\":\")[0]\n",
    "        except:\n",
    "            continue\n",
    "        \n",
    "        if hour is not None:\n",
    "            if hour in shist.keys():\n",
    "                shist[hour]+= int(row[7])\n",
    "            else:\n",
    "                shist[hour]= int(row[7])\n",
    "    \n",
    "    n+=1\n",
    "    \n",
    "for hour in shist.keys():\n",
    "    \n",
    "    shist[hour]=shist[hour]//Number_days\n",
    "\n",
    "\n",
    "print(shist)\n",
    "\n",
    "f.close()\n",
    "    \n",
    "\n",
    "    "
   ]
  },
  {
   "cell_type": "code",
   "execution_count": null,
   "id": "b0785730",
   "metadata": {},
   "outputs": [],
   "source": []
  }
 ],
 "metadata": {
  "kernelspec": {
   "display_name": "Python 3 (ipykernel)",
   "language": "python",
   "name": "python3"
  },
  "language_info": {
   "codemirror_mode": {
    "name": "ipython",
    "version": 3
   },
   "file_extension": ".py",
   "mimetype": "text/x-python",
   "name": "python",
   "nbconvert_exporter": "python",
   "pygments_lexer": "ipython3",
   "version": "3.9.7"
  }
 },
 "nbformat": 4,
 "nbformat_minor": 5
}
