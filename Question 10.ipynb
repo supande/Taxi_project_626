{
 "cells": [
  {
   "cell_type": "code",
   "execution_count": 1,
   "id": "a949d308",
   "metadata": {},
   "outputs": [],
   "source": [
    "import csv\n",
    "\n",
    "fn = 'trip_data_8.csv'\n",
    "f = open(fn,'r')\n",
    "reader = csv.reader(f)\n",
    "i=0\n",
    "\n",
    "f2 = open('trip_data_subset.csv','w')\n",
    "f2.write('')\n",
    "f2.close()\n",
    "\n",
    "f2 = open('trip_data_subset.csv','a')\n",
    "writer = csv.writer(f2,delimiter=',',lineterminator='\\n')\n",
    "for i, row in enumerate(reader):\n",
    "    if i % 1000 == 0:\n",
    "        writer.writerow(row)\n",
    "f.close()\n",
    "f2.close()"
   ]
  },
  {
   "cell_type": "code",
   "execution_count": null,
   "id": "6e551f51",
   "metadata": {},
   "outputs": [],
   "source": []
  }
 ],
 "metadata": {
  "kernelspec": {
   "display_name": "Python 3 (ipykernel)",
   "language": "python",
   "name": "python3"
  },
  "language_info": {
   "codemirror_mode": {
    "name": "ipython",
    "version": 3
   },
   "file_extension": ".py",
   "mimetype": "text/x-python",
   "name": "python",
   "nbconvert_exporter": "python",
   "pygments_lexer": "ipython3",
   "version": "3.9.7"
  }
 },
 "nbformat": 4,
 "nbformat_minor": 5
}
