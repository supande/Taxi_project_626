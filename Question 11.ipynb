{
 "cells": [
  {
   "cell_type": "code",
   "execution_count": 1,
   "id": "bbc67a33",
   "metadata": {},
   "outputs": [
    {
     "name": "stdout",
     "output_type": "stream",
     "text": [
      "{'06': 13, '03': 10, '19': 41, '17': 33, '11': 31, '15': 32, '00': 28, '13': 33, '18': 41, '09': 31, '20': 37, '07': 23, '23': 36, '22': 40, '02': 17, '01': 21, '04': 10, '16': 29, '21': 40, '05': 6, '12': 33, '14': 34, '10': 28, '08': 32}\n"
     ]
    }
   ],
   "source": [
    "import csv\n",
    "fn=\"trip_data_subset.csv\"\n",
    "f=open(fn,'r')\n",
    "reader=csv.reader(f)\n",
    "n=0\n",
    "shist={}\n",
    "Number_days=31\n",
    "\n",
    "\n",
    "for row in reader:\n",
    "    \n",
    "    if n>0:\n",
    "        \n",
    "        hour=None\n",
    "        try:\n",
    "            hour = row[5].split(\" \")[1].split(\":\")[0]\n",
    "        except:\n",
    "            continue\n",
    "        \n",
    "        if hour is not None:\n",
    "            if hour in shist.keys():\n",
    "                shist[hour]+= int(row[7])\n",
    "            else:\n",
    "                shist[hour]= int(row[7])\n",
    "    \n",
    "    n+=1\n",
    "    \n",
    "for hour in shist.keys():\n",
    "    \n",
    "    shist[hour]=shist[hour]//Number_days\n",
    "\n",
    "\n",
    "print(shist)\n",
    "\n",
    "f.close()\n",
    "    \n",
    "\n",
    "    \n",
    "\n",
    "            \n",
    "        \n",
    "        \n"
   ]
  },
  {
   "cell_type": "code",
   "execution_count": null,
   "id": "88bdd7f8",
   "metadata": {},
   "outputs": [],
   "source": []
  }
 ],
 "metadata": {
  "kernelspec": {
   "display_name": "Python 3 (ipykernel)",
   "language": "python",
   "name": "python3"
  },
  "language_info": {
   "codemirror_mode": {
    "name": "ipython",
    "version": 3
   },
   "file_extension": ".py",
   "mimetype": "text/x-python",
   "name": "python",
   "nbconvert_exporter": "python",
   "pygments_lexer": "ipython3",
   "version": "3.9.7"
  }
 },
 "nbformat": 4,
 "nbformat_minor": 5
}
