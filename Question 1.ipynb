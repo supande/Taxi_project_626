{
 "cells": [
  {
   "cell_type": "code",
   "execution_count": 15,
   "id": "10ebc3dc",
   "metadata": {},
   "outputs": [
    {
     "name": "stdout",
     "output_type": "stream",
     "text": [
      "Datetime range is from 2013-08-01 00:00:00 to 2013-08-31 23:59:59\n"
     ]
    }
   ],
   "source": [
    "import csv,datetime\n",
    "fn ='trip_data_8.csv'\n",
    "f = open(fn,'r')\n",
    "reader = csv.reader(f)\n",
    "n=0\n",
    "mindate = None\n",
    "maxdate = None\n",
    "\n",
    "for row in reader:\n",
    "    if n>0:\n",
    "        dts = row[5]\n",
    "        dto = None\n",
    "        try:\n",
    "            dto = datetime.datetime.strptime(dts, \"%Y-%m-%d %H:%M:%S\")\n",
    "        except:\n",
    "            continue\n",
    "\n",
    "        if dto is not None:\n",
    "            if n == 1:\n",
    "                mindate = dto\n",
    "                maxdate = dto\n",
    "            elif dto < mindate:\n",
    "                mindate = dto\n",
    "            elif dto > maxdate:\n",
    "                maxdate = dto\n",
    "        \n",
    "    n+=1\n",
    "print(\"Datetime range is from\",mindate,\"to\",maxdate) \n",
    "\n",
    "f.close()\n"
   ]
  },
  {
   "cell_type": "code",
   "execution_count": 14,
   "id": "2922eef7",
   "metadata": {},
   "outputs": [
    {
     "name": "stdout",
     "output_type": "stream",
     "text": [
      "0\n",
      "1000000\n",
      "2000000\n",
      "3000000\n",
      "4000000\n",
      "5000000\n",
      "6000000\n",
      "7000000\n",
      "8000000\n",
      "9000000\n",
      "10000000\n",
      "11000000\n",
      "12000000\n",
      "12597110\n"
     ]
    }
   ],
   "source": [
    "import csv \n",
    "fn = 'trip_data_8.csv'\n",
    "f = open(fn,'r')\n",
    "reader = csv.reader(f)\n",
    "n=0\n",
    "for row in reader:\n",
    "    if n % 1000000 == 0:\n",
    "        print(n)\n",
    "    n+=1\n",
    "\n",
    "print(n)\n",
    "\n",
    "f.close()\n"
   ]
  },
  {
   "cell_type": "code",
   "execution_count": null,
   "id": "812c9899",
   "metadata": {},
   "outputs": [],
   "source": []
  }
 ],
 "metadata": {
  "kernelspec": {
   "display_name": "Python 3 (ipykernel)",
   "language": "python",
   "name": "python3"
  },
  "language_info": {
   "codemirror_mode": {
    "name": "ipython",
    "version": 3
   },
   "file_extension": ".py",
   "mimetype": "text/x-python",
   "name": "python",
   "nbconvert_exporter": "python",
   "pygments_lexer": "ipython3",
   "version": "3.9.7"
  }
 },
 "nbformat": 4,
 "nbformat_minor": 5
}
