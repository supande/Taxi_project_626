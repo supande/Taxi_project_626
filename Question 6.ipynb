{
 "cells": [
  {
   "cell_type": "code",
   "execution_count": 1,
   "id": "c03f4d08",
   "metadata": {},
   "outputs": [
    {
     "name": "stdout",
     "output_type": "stream",
     "text": [
      "The average trip distance according to Haversine formula is:  3.537499738549388 Miles\n"
     ]
    }
   ],
   "source": [
    "import csv\n",
    "from math import radians, cos, sin, asin, sqrt\n",
    "\n",
    "\n",
    "def haversine(lon1, lat1, lon2, lat2):\n",
    "    \"\"\"\n",
    "    Calculate the great circle distance in kilometers between two points \n",
    "    on the earth (specified in decimal degrees)\n",
    "    \"\"\"\n",
    "    # convert decimal degrees to radians \n",
    "    lon1, lat1, lon2, lat2 = map(radians, [lon1, lat1, lon2, lat2])\n",
    "\n",
    "    # haversine formula \n",
    "    dlon = lon2 - lon1 \n",
    "    dlat = lat2 - lat1 \n",
    "    a = sin(dlat/2)**2 + cos(lat1) * cos(lat2) * sin(dlon/2)**2\n",
    "    c = 2 * asin(sqrt(a)) \n",
    "    r = 6371 # Radius of earth in kilometers. Use 3956 for miles. Determines return value units.\n",
    "    return c * r\n",
    "\n",
    "fn = 'trip_data_8.csv'\n",
    "f = open(fn,'r')\n",
    "reader = csv.reader(f)\n",
    "n=0\n",
    "Sum=0\n",
    "count=0\n",
    "\n",
    "for row in reader:\n",
    "    if n>0:\n",
    "        distance = None\n",
    "        try:\n",
    "            distance = haversine(float(row[10]),float(row[11]),float(row[12]),float(row[13]))\n",
    "        except:\n",
    "            continue\n",
    "            \n",
    "        if distance is not None:\n",
    "            if distance>0 and distance<200:\n",
    "                Sum = Sum + distance\n",
    "                count+=1\n",
    "    \n",
    "    n+=1\n",
    "\n",
    "Average_trip_distance = Sum/count\n",
    "print(\"The average trip distance according to Haversine formula is: \",Average_trip_distance,\"Miles\")\n",
    "\n",
    "f.close()\n",
    "    \n",
    "\n"
   ]
  },
  {
   "cell_type": "code",
   "execution_count": 21,
   "id": "bfdfeff2",
   "metadata": {},
   "outputs": [
    {
     "name": "stdout",
     "output_type": "stream",
     "text": [
      "2971024   3949442   2039907   1094614   605046   1777964\n"
     ]
    }
   ],
   "source": [
    "import csv\n",
    "fn = 'trip_data_8.csv'\n",
    "f = open(fn,'r')\n",
    "reader = csv.reader(f)\n",
    "n=0\n",
    "count1=0\n",
    "count2=0\n",
    "count3=0\n",
    "count4=0\n",
    "count5=0\n",
    "count6=0\n",
    "\n",
    "for row in reader:\n",
    "    if n>0:\n",
    "        distance=None\n",
    "        try:\n",
    "            distance = float(row[9])\n",
    "        except:\n",
    "            continue\n",
    "        \n",
    "        if distance is not None:\n",
    "            \n",
    "            if distance>0 and distance<=1:\n",
    "                count1+=1\n",
    "            elif distance>1 and distance<=2:\n",
    "                count2+=1\n",
    "            elif distance>2 and distance<=3:\n",
    "                count3+=1\n",
    "            elif distance>3 and distance<=4:\n",
    "                count4+=1\n",
    "            elif distance>4 and distance<=5:\n",
    "                count5+=1\n",
    "            elif distance>5 and distance<=200:\n",
    "                count6+=1\n",
    "          \n",
    "    n+=1\n",
    "\n",
    "print(count1,\" \",count2,\" \",count3,\" \",count4,\" \",count5,\" \",count6)\n",
    "\n",
    "f.close()\n",
    "            \n",
    "                \n",
    "                \n",
    "            \n",
    "        "
   ]
  },
  {
   "cell_type": "code",
   "execution_count": null,
   "id": "69da07be",
   "metadata": {},
   "outputs": [],
   "source": []
  }
 ],
 "metadata": {
  "kernelspec": {
   "display_name": "Python 3 (ipykernel)",
   "language": "python",
   "name": "python3"
  },
  "language_info": {
   "codemirror_mode": {
    "name": "ipython",
    "version": 3
   },
   "file_extension": ".py",
   "mimetype": "text/x-python",
   "name": "python",
   "nbconvert_exporter": "python",
   "pygments_lexer": "ipython3",
   "version": "3.9.7"
  }
 },
 "nbformat": 4,
 "nbformat_minor": 5
}
